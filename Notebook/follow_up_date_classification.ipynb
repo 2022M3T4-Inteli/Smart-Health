{
  "nbformat": 4,
  "nbformat_minor": 0,
  "metadata": {
    "colab": {
      "provenance": [],
      "collapsed_sections": []
    },
    "kernelspec": {
      "name": "python3",
      "display_name": "Python 3"
    },
    "language_info": {
      "name": "python"
    }
  },
  "cells": [
    {
      "cell_type": "code",
      "execution_count": null,
      "metadata": {
        "colab": {
          "base_uri": "https://localhost:8080/"
        },
        "id": "2Xy3D0E4Db_-",
        "outputId": "8e3c3355-0d2c-4d98-ed4e-045696524130"
      },
      "outputs": [
        {
          "output_type": "stream",
          "name": "stdout",
          "text": [
            "Drive already mounted at /content/drive; to attempt to forcibly remount, call drive.mount(\"/content/drive\", force_remount=True).\n"
          ]
        }
      ],
      "source": [
        "#@title Conectar com o Google Drive\n",
        "\n",
        "from google.colab import drive\n",
        "drive.mount('/content/drive')\n",
        "\n",
        "#Conectando o ambiente ao Google Drive"
      ]
    },
    {
      "cell_type": "code",
      "source": [
        "#@title  Puxar Base de Dados\n",
        "\n",
        "\n",
        "import pandas as pd\n",
        "import numpy as np\n",
        "import matplotlib.pyplot as plt\n",
        "\n",
        "#Importando bibliotecas necessárias.\n",
        "\n",
        "uri = '/content/drive/Shareddrives/Colab_Grupo2/dataToPredict.csv'\n",
        "\n",
        "data = pd.read_csv(uri)\n",
        "#Declarando caminho do conjunto de dados e instanciando um dataframe.\n",
        "\n",
        "data.shape"
      ],
      "metadata": {
        "id": "XCoyu8oQEotc",
        "colab": {
          "base_uri": "https://localhost:8080/"
        },
        "outputId": "2bee8a02-ead0-4c0c-cb7c-08765454331f"
      },
      "execution_count": null,
      "outputs": [
        {
          "output_type": "execute_result",
          "data": {
            "text/plain": [
              "(4132, 97)"
            ]
          },
          "metadata": {},
          "execution_count": 2
        }
      ]
    },
    {
      "cell_type": "code",
      "source": [
        "#@title  Criar cópia\n",
        "\n",
        "df = data[['follow_up_days']].copy()\n",
        "\n",
        "df.dtypes"
      ],
      "metadata": {
        "colab": {
          "base_uri": "https://localhost:8080/"
        },
        "id": "R9oWeog1asKs",
        "outputId": "32e203f6-16f4-49ff-ba2d-ffaa8f5bef89"
      },
      "execution_count": null,
      "outputs": [
        {
          "output_type": "execute_result",
          "data": {
            "text/plain": [
              "follow_up_days    float64\n",
              "dtype: object"
            ]
          },
          "metadata": {},
          "execution_count": 3
        }
      ]
    },
    {
      "cell_type": "code",
      "source": [
        "#@title  Transformar follow_up_days em números inteiros\n",
        "\n",
        "df = df.astype(int)"
      ],
      "metadata": {
        "id": "G0qpkOJUatzn"
      },
      "execution_count": null,
      "outputs": []
    },
    {
      "cell_type": "code",
      "source": [
        "#@title  Criar um Dataframe com uma coluna de inteiros\n",
        "\n",
        "follow_up_classified = pd.DataFrame(columns=['follow_up_classified'], dtype=int)"
      ],
      "metadata": {
        "id": "BTprM1Dda4A_"
      },
      "execution_count": null,
      "outputs": []
    },
    {
      "cell_type": "code",
      "source": [
        "#@title  Classificação do follow_up_days em baixo, médio, alto e muito alto\n",
        "\n",
        "classifiers = []\n",
        "def classify_follow_up_days(x):\n",
        "  if x < 950:\n",
        "    classifiers.append(0)\n",
        "  elif x < 2470:\n",
        "    classifiers.append(1)\n",
        "  elif x < 3610:\n",
        "    classifiers.append(2)\n",
        "  else:\n",
        "    classifiers.append(3)\n",
        "df['follow_up_days'].apply(\n",
        "  classify_follow_up_days\n",
        ")\n",
        "df['follow_up_classified'] = 0\n",
        "count = 0\n",
        "for classification in classifiers:\n",
        "  follow_up_classified = follow_up_classified.append({\n",
        "      'follow_up_classified': classifiers[count]}, ignore_index=True)\n",
        "  count += 1\n",
        "follow_up_classified\n",
        "\n",
        "#Criação de loop para classificar o follow up dates em baixo, médio, alto e muito alto."
      ],
      "metadata": {
        "id": "6nRN6CdAMRjb",
        "colab": {
          "base_uri": "https://localhost:8080/",
          "height": 424
        },
        "outputId": "7db504f4-d92f-4ed5-8346-2029c374e2d0"
      },
      "execution_count": null,
      "outputs": [
        {
          "output_type": "execute_result",
          "data": {
            "text/plain": [
              "      follow_up_classified\n",
              "0                        2\n",
              "1                        1\n",
              "2                        2\n",
              "3                        3\n",
              "4                        2\n",
              "...                    ...\n",
              "4127                     0\n",
              "4128                     0\n",
              "4129                     0\n",
              "4130                     0\n",
              "4131                     0\n",
              "\n",
              "[4132 rows x 1 columns]"
            ],
            "text/html": [
              "\n",
              "  <div id=\"df-1b0c2a1c-56a0-41ff-a1ae-af31086244ec\">\n",
              "    <div class=\"colab-df-container\">\n",
              "      <div>\n",
              "<style scoped>\n",
              "    .dataframe tbody tr th:only-of-type {\n",
              "        vertical-align: middle;\n",
              "    }\n",
              "\n",
              "    .dataframe tbody tr th {\n",
              "        vertical-align: top;\n",
              "    }\n",
              "\n",
              "    .dataframe thead th {\n",
              "        text-align: right;\n",
              "    }\n",
              "</style>\n",
              "<table border=\"1\" class=\"dataframe\">\n",
              "  <thead>\n",
              "    <tr style=\"text-align: right;\">\n",
              "      <th></th>\n",
              "      <th>follow_up_classified</th>\n",
              "    </tr>\n",
              "  </thead>\n",
              "  <tbody>\n",
              "    <tr>\n",
              "      <th>0</th>\n",
              "      <td>2</td>\n",
              "    </tr>\n",
              "    <tr>\n",
              "      <th>1</th>\n",
              "      <td>1</td>\n",
              "    </tr>\n",
              "    <tr>\n",
              "      <th>2</th>\n",
              "      <td>2</td>\n",
              "    </tr>\n",
              "    <tr>\n",
              "      <th>3</th>\n",
              "      <td>3</td>\n",
              "    </tr>\n",
              "    <tr>\n",
              "      <th>4</th>\n",
              "      <td>2</td>\n",
              "    </tr>\n",
              "    <tr>\n",
              "      <th>...</th>\n",
              "      <td>...</td>\n",
              "    </tr>\n",
              "    <tr>\n",
              "      <th>4127</th>\n",
              "      <td>0</td>\n",
              "    </tr>\n",
              "    <tr>\n",
              "      <th>4128</th>\n",
              "      <td>0</td>\n",
              "    </tr>\n",
              "    <tr>\n",
              "      <th>4129</th>\n",
              "      <td>0</td>\n",
              "    </tr>\n",
              "    <tr>\n",
              "      <th>4130</th>\n",
              "      <td>0</td>\n",
              "    </tr>\n",
              "    <tr>\n",
              "      <th>4131</th>\n",
              "      <td>0</td>\n",
              "    </tr>\n",
              "  </tbody>\n",
              "</table>\n",
              "<p>4132 rows × 1 columns</p>\n",
              "</div>\n",
              "      <button class=\"colab-df-convert\" onclick=\"convertToInteractive('df-1b0c2a1c-56a0-41ff-a1ae-af31086244ec')\"\n",
              "              title=\"Convert this dataframe to an interactive table.\"\n",
              "              style=\"display:none;\">\n",
              "        \n",
              "  <svg xmlns=\"http://www.w3.org/2000/svg\" height=\"24px\"viewBox=\"0 0 24 24\"\n",
              "       width=\"24px\">\n",
              "    <path d=\"M0 0h24v24H0V0z\" fill=\"none\"/>\n",
              "    <path d=\"M18.56 5.44l.94 2.06.94-2.06 2.06-.94-2.06-.94-.94-2.06-.94 2.06-2.06.94zm-11 1L8.5 8.5l.94-2.06 2.06-.94-2.06-.94L8.5 2.5l-.94 2.06-2.06.94zm10 10l.94 2.06.94-2.06 2.06-.94-2.06-.94-.94-2.06-.94 2.06-2.06.94z\"/><path d=\"M17.41 7.96l-1.37-1.37c-.4-.4-.92-.59-1.43-.59-.52 0-1.04.2-1.43.59L10.3 9.45l-7.72 7.72c-.78.78-.78 2.05 0 2.83L4 21.41c.39.39.9.59 1.41.59.51 0 1.02-.2 1.41-.59l7.78-7.78 2.81-2.81c.8-.78.8-2.07 0-2.86zM5.41 20L4 18.59l7.72-7.72 1.47 1.35L5.41 20z\"/>\n",
              "  </svg>\n",
              "      </button>\n",
              "      \n",
              "  <style>\n",
              "    .colab-df-container {\n",
              "      display:flex;\n",
              "      flex-wrap:wrap;\n",
              "      gap: 12px;\n",
              "    }\n",
              "\n",
              "    .colab-df-convert {\n",
              "      background-color: #E8F0FE;\n",
              "      border: none;\n",
              "      border-radius: 50%;\n",
              "      cursor: pointer;\n",
              "      display: none;\n",
              "      fill: #1967D2;\n",
              "      height: 32px;\n",
              "      padding: 0 0 0 0;\n",
              "      width: 32px;\n",
              "    }\n",
              "\n",
              "    .colab-df-convert:hover {\n",
              "      background-color: #E2EBFA;\n",
              "      box-shadow: 0px 1px 2px rgba(60, 64, 67, 0.3), 0px 1px 3px 1px rgba(60, 64, 67, 0.15);\n",
              "      fill: #174EA6;\n",
              "    }\n",
              "\n",
              "    [theme=dark] .colab-df-convert {\n",
              "      background-color: #3B4455;\n",
              "      fill: #D2E3FC;\n",
              "    }\n",
              "\n",
              "    [theme=dark] .colab-df-convert:hover {\n",
              "      background-color: #434B5C;\n",
              "      box-shadow: 0px 1px 3px 1px rgba(0, 0, 0, 0.15);\n",
              "      filter: drop-shadow(0px 1px 2px rgba(0, 0, 0, 0.3));\n",
              "      fill: #FFFFFF;\n",
              "    }\n",
              "  </style>\n",
              "\n",
              "      <script>\n",
              "        const buttonEl =\n",
              "          document.querySelector('#df-1b0c2a1c-56a0-41ff-a1ae-af31086244ec button.colab-df-convert');\n",
              "        buttonEl.style.display =\n",
              "          google.colab.kernel.accessAllowed ? 'block' : 'none';\n",
              "\n",
              "        async function convertToInteractive(key) {\n",
              "          const element = document.querySelector('#df-1b0c2a1c-56a0-41ff-a1ae-af31086244ec');\n",
              "          const dataTable =\n",
              "            await google.colab.kernel.invokeFunction('convertToInteractive',\n",
              "                                                     [key], {});\n",
              "          if (!dataTable) return;\n",
              "\n",
              "          const docLinkHtml = 'Like what you see? Visit the ' +\n",
              "            '<a target=\"_blank\" href=https://colab.research.google.com/notebooks/data_table.ipynb>data table notebook</a>'\n",
              "            + ' to learn more about interactive tables.';\n",
              "          element.innerHTML = '';\n",
              "          dataTable['output_type'] = 'display_data';\n",
              "          await google.colab.output.renderOutput(dataTable, element);\n",
              "          const docLink = document.createElement('div');\n",
              "          docLink.innerHTML = docLinkHtml;\n",
              "          element.appendChild(docLink);\n",
              "        }\n",
              "      </script>\n",
              "    </div>\n",
              "  </div>\n",
              "  "
            ]
          },
          "metadata": {},
          "execution_count": 7
        }
      ]
    },
    {
      "cell_type": "code",
      "source": [
        "#@title  Criação de um id temporário para cada linha\n",
        "\n",
        "df['follow_up_classified'] = follow_up_classified['follow_up_classified']\n",
        "df['id'] = 1\n",
        "\n",
        "count = -1\n",
        "\n",
        "for n in range(len(df.id)):\n",
        "  df['id'][n] = count + df['id'][n]\n",
        "  count += 1\n",
        "df.drop('follow_up_days', axis=1, inplace=True)\n",
        "data['id'] = df['id']\n",
        "\n",
        "#Adicionar ID temporário para facilitar a o tratamento de dados"
      ],
      "metadata": {
        "id": "1pFzl5FviZ98"
      },
      "execution_count": null,
      "outputs": []
    },
    {
      "cell_type": "code",
      "source": [
        "#@title  Juntar as bases de dados\n",
        "\n",
        "new_data = pd.merge(\n",
        "    df,\n",
        "    data,\n",
        "    left_on='id',\n",
        "    right_on='id',\n",
        "    how='left'\n",
        ")\n",
        "\n",
        "#Juntar as bases de dados."
      ],
      "metadata": {
        "id": "oaN8jTlTggcw"
      },
      "execution_count": null,
      "outputs": []
    },
    {
      "cell_type": "code",
      "source": [
        "#@title  Salvar base de dados\n",
        "\n",
        "new_data.to_csv(\"data_classified.csv\", index=False)"
      ],
      "metadata": {
        "id": "mhfcMjUDdu7e"
      },
      "execution_count": null,
      "outputs": []
    }
  ]
}